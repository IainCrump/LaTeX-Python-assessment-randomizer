{
 "cells": [
  {
   "cell_type": "code",
   "execution_count": 2,
   "metadata": {},
   "outputs": [
    {
     "name": "stdout",
     "output_type": "stream",
     "text": [
      "Student information file found\n",
      "Names added successfully\n"
     ]
    }
   ],
   "source": [
    "#Comments for the purposes of seeing how it works\n",
    "\n",
    "import sys\n",
    "\n",
    "#place the path to the randomizer project folder in the quotations below:\n",
    "\n",
    "#on Mac\n",
    "#root = '/User/Desktop/Randomizer/'\n",
    "\n",
    "#on PC\n",
    "root = 'C:/Users/iainc/anaconda3/Randomizer/'\n",
    "\n",
    "sys.path.append(root)\n",
    "\n",
    "#import the basic python file with all the necessary functions\n",
    "import randomizer\n",
    "\n",
    "#course and assessment must perfectly match the name of the folders, \n",
    "#it's how the program navigates the folders to find the question files\n",
    "course = 'Sample Course'\n",
    "assessment = 'Sample Assessment'\n",
    "semester='Fall 2023'\n",
    "\n",
    "\n",
    "#If there is a Master.csv file in the archive folder for this assessment (there should be in this one),\n",
    "# the generator makes one assessment for each student in the list, and then this number of additional blank assessments.\n",
    "#If there is no such file (try renaming, not deleting, the csv file to see), \n",
    "# this is the total number of blank assessment made.\n",
    "number = 4\n",
    "\n",
    "#Assessment questions, as a list of lists\n",
    "#Each sublist is a page on the assessment (assuming no page runs long)\n",
    "#Calls need to be the file name of each question\n",
    "#The question 'qblankpage' can be included to skip a page, or to balance out if the number of pages is odd.\n",
    "#Note that the 'qblankpage' file should be included in every assessment question folder\n",
    "page1=['m - QUESTION GUIDE','m - QUESTION GUIDE','m - QUESTION GUIDE','m common denom']\n",
    "page2=['q - QUESTION GUIDE','q - QUESTION GUIDE','q - QUESTION GUIDE']\n",
    "page3=['q Fence Min Max','q long division']\n",
    "page4=['q percentage problem','q stopping distance']\n",
    "page5=['q system moving unit']\n",
    "page6=['q with a graph','q with an included image']\n",
    "page7=['qblankpage']\n",
    "\n",
    "questions=[page1,page2,page3,page4,page5,page6,page7]\n",
    "\n",
    "\n",
    "#the call to create the assessments\n",
    "#the assessments appear in the course->assessment->Assessments folder\n",
    "\n",
    "#single_file determines if the program puts all assessments in a single pdf (true), or makes multiple pdfs (false)\n",
    "randomizer.assessment_generator(root, semester, number, course, assessment, questions, single_file=True)\n",
    "\n",
    "#To create a 'grading guide' template, uncomment the line below. Use when making the final version.\n",
    "#Everything is the same as the exam creation, except no number is needed.\n",
    "#The grading guide is moved to that assessments archive folder.\n",
    "randomizer.grading_guide(root, semester, course, assessment, questions)"
   ]
  },
  {
   "cell_type": "code",
   "execution_count": 2,
   "metadata": {},
   "outputs": [
    {
     "name": "stdout",
     "output_type": "stream",
     "text": [
      "Student information file found\n",
      "Names added successfully\n"
     ]
    }
   ],
   "source": [
    "import sys\n",
    "\n",
    "root = 'C:/Users/iainc/anaconda3/Randomizer/'\n",
    "\n",
    "sys.path.append(root)\n",
    "\n",
    "import randomizer\n",
    "\n",
    "course = 'Sample Course'\n",
    "assessment = 'Sample Assessment 2'\n",
    "semester='Fall 2023'\n",
    "\n",
    "\n",
    "number = 10\n",
    "\n",
    "#pre- and post- suffixes on a question can be used to make questions with parts from separate question files\n",
    "#the pre- and post- files are not included with grading guides, as they may cause errors\n",
    "page1=['q arithmatic pre','q addition','q subtraction','q multiplication','q arithmatic post']\n",
    "\n",
    "#lists of questions can be used to choose a subset of a set of questions\n",
    "#here, 2 of the three questions listed will be included, at random, and in a random order\n",
    "page2=['q arithmatic pre',[2,'q addition','q subtraction','q multiplication'],'q arithmatic post']\n",
    "\n",
    "\n",
    "questions=[page1,page2]\n",
    "\n",
    "\n",
    "\n",
    "randomizer.assessment_generator(root, semester, number, course, assessment, questions, single_file=True)\n",
    "\n",
    "#randomizer.grading_guide(root, semester, course, assessment, questions)"
   ]
  },
  {
   "cell_type": "code",
   "execution_count": null,
   "metadata": {},
   "outputs": [],
   "source": []
  },
  {
   "cell_type": "code",
   "execution_count": null,
   "metadata": {},
   "outputs": [],
   "source": []
  },
  {
   "cell_type": "code",
   "execution_count": null,
   "metadata": {},
   "outputs": [],
   "source": []
  }
 ],
 "metadata": {
  "kernelspec": {
   "display_name": "Python 3 (ipykernel)",
   "language": "python",
   "name": "python3"
  },
  "language_info": {
   "codemirror_mode": {
    "name": "ipython",
    "version": 3
   },
   "file_extension": ".py",
   "mimetype": "text/x-python",
   "name": "python",
   "nbconvert_exporter": "python",
   "pygments_lexer": "ipython3",
   "version": "3.10.9"
  }
 },
 "nbformat": 4,
 "nbformat_minor": 2
}
