{
 "cells": [
  {
   "cell_type": "code",
   "execution_count": 1,
   "metadata": {},
   "outputs": [
    {
     "name": "stdout",
     "output_type": "stream",
     "text": [
      "Student information file found\n",
      "Names added successfully\n"
     ]
    }
   ],
   "source": [
    "#Comments for the purposes of seeing how it works\n",
    "\n",
    "import sys\n",
    "\n",
    "#place the path to the randomizer project folder in the quotations below:\n",
    "root = 'C:/Users/iainc/anaconda3/Randomizer/'\n",
    "\n",
    "sys.path.append(root)\n",
    "\n",
    "#import the basic python file with all the necessary functions\n",
    "import randomizer\n",
    "\n",
    "#course and assessment must perfectly match the name of the folders, \n",
    "#it's how the program navigates the folders to find the question files\n",
    "course = 'MATH 1001'\n",
    "assessment = 'Midterm 1'\n",
    "semester='Fall 2023'\n",
    "\n",
    "\n",
    "#If there is a StudentList.csv file in the archive folder for this assessment,\n",
    "# the generator makes one assessment for each student in the list, \n",
    "# and then this number of additional blank assessment.\n",
    "#If there is no such file (try renaming, not deleting, the csv file to see), \n",
    "# this is the total number of blank assessments made.\n",
    "number = 3\n",
    "\n",
    "#Assessment questions, as a list of lists\n",
    "#Each sublist is a page on the assessment (assuming no page runs long)\n",
    "#Calls need to be the file name of each question\n",
    "#The question 'qblankpage' can be included to skip a page, or to balance out if the number of pages is odd.\n",
    "#Note that the 'qblankpage' file should be included in every assessment question folder\n",
    "page1=['q matrix inverse','q polynomial derivative','q derivative sketch']\n",
    "page2=['q related rates']\n",
    "page3=['q absolute limit','q rational limits']\n",
    "page4=['q radical limits','q exponential derivative']\n",
    "page5=['qblankpage']\n",
    "\n",
    "questions=[page1,page2,page3,page4,page5]\n",
    "\n",
    "\n",
    "#the call to create the assessments\n",
    "#the assessments appear in the course->assessment->Assessments folder\n",
    "\n",
    "#single_file determines if the program puts all assessments in a single pdf (true), or makes multiple pdfs (false)\n",
    "randomizer.assessment_generator(root, semester, number, course, assessment, questions, single_file=True)\n",
    "\n",
    "#To create a 'grading guide' template, uncomment the line below. Useful when making the final version.\n",
    "#Everything is the same as the assessment creation, except no number is needed.\n",
    "#The grading guide is moved to that assessments archive folder.\n",
    "randomizer.grading_guide(root, semester, course, assessment, questions)"
   ]
  },
  {
   "cell_type": "code",
   "execution_count": null,
   "metadata": {},
   "outputs": [],
   "source": []
  }
 ],
 "metadata": {
  "kernelspec": {
   "display_name": "Python 3 (ipykernel)",
   "language": "python",
   "name": "python3"
  },
  "language_info": {
   "codemirror_mode": {
    "name": "ipython",
    "version": 3
   },
   "file_extension": ".py",
   "mimetype": "text/x-python",
   "name": "python",
   "nbconvert_exporter": "python",
   "pygments_lexer": "ipython3",
   "version": "3.10.9"
  }
 },
 "nbformat": 4,
 "nbformat_minor": 2
}
