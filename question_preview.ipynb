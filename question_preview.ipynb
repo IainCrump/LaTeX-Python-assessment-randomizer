{
 "cells": [
  {
   "cell_type": "code",
   "execution_count": 1,
   "metadata": {
    "scrolled": true
   },
   "outputs": [],
   "source": [
    "import sys\n",
    "\n",
    "#place the path to the randomizer folder in the quotations below:\n",
    "root = 'C:/Users/iainc/anaconda3/Randomizer/'\n",
    "\n",
    "sys.path.append(root)\n",
    "\n",
    "import randomizer\n",
    "\n",
    "#course and assessment must perfectly match the name of the folders\n",
    "course = 'Sample Course'\n",
    "assessment = 'Sample Assessment'\n",
    "\n",
    "#user is to prevent people from trying to change the same tex and pdf files simultaneously\n",
    "#write your name, or some unique key word\n",
    "user = 'Iain'\n",
    "\n",
    "#number of times the question will be written\n",
    "number = 50\n",
    "\n",
    "question_name = 'q percentage problem'\n",
    "\n",
    "#creates a pdf file with one question repeatedly, for practicing purposes\n",
    "randomizer.question_preview(root, question_name, number, course, assessment, user)"
   ]
  },
  {
   "cell_type": "code",
   "execution_count": null,
   "metadata": {},
   "outputs": [],
   "source": []
  },
  {
   "cell_type": "code",
   "execution_count": null,
   "metadata": {},
   "outputs": [],
   "source": []
  },
  {
   "cell_type": "code",
   "execution_count": null,
   "metadata": {},
   "outputs": [],
   "source": []
  },
  {
   "cell_type": "code",
   "execution_count": null,
   "metadata": {},
   "outputs": [],
   "source": []
  },
  {
   "cell_type": "code",
   "execution_count": null,
   "metadata": {},
   "outputs": [],
   "source": []
  },
  {
   "cell_type": "code",
   "execution_count": null,
   "metadata": {},
   "outputs": [],
   "source": []
  }
 ],
 "metadata": {
  "kernelspec": {
   "display_name": "Python 3 (ipykernel)",
   "language": "python",
   "name": "python3"
  },
  "language_info": {
   "codemirror_mode": {
    "name": "ipython",
    "version": 3
   },
   "file_extension": ".py",
   "mimetype": "text/x-python",
   "name": "python",
   "nbconvert_exporter": "python",
   "pygments_lexer": "ipython3",
   "version": "3.10.9"
  }
 },
 "nbformat": 4,
 "nbformat_minor": 2
}
