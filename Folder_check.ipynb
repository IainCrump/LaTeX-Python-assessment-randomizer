{
 "cells": [
  {
   "cell_type": "code",
   "execution_count": 3,
   "metadata": {},
   "outputs": [],
   "source": [
    "##Finds all .tex files in a folder, creates a grading guide with all those files as the questions.\n",
    "##Ignores any other file types, as well as the 'qblankpage' file.\n",
    "##As with other grading guides, the product is placed in the assessments Archive folder\n",
    "\n",
    "import sys\n",
    "\n",
    "#place the path to the randomizer folder in the quotations below:\n",
    "root = 'C:/Users/iainc/anaconda3/Randomizer/'\n",
    "\n",
    "sys.path.append(root)\n",
    "\n",
    "import randomizer\n",
    "\n",
    "#course and assessment must perfectly match the name of the folders\n",
    "course = 'Sample Course'\n",
    "assessment = 'Sample Assessment'\n",
    "\n",
    "randomizer.folder_check(root, course, assessment)"
   ]
  },
  {
   "cell_type": "code",
   "execution_count": null,
   "metadata": {},
   "outputs": [],
   "source": []
  }
 ],
 "metadata": {
  "kernelspec": {
   "display_name": "Python 3 (ipykernel)",
   "language": "python",
   "name": "python3"
  },
  "language_info": {
   "codemirror_mode": {
    "name": "ipython",
    "version": 3
   },
   "file_extension": ".py",
   "mimetype": "text/x-python",
   "name": "python",
   "nbconvert_exporter": "python",
   "pygments_lexer": "ipython3",
   "version": "3.10.9"
  }
 },
 "nbformat": 4,
 "nbformat_minor": 4
}
